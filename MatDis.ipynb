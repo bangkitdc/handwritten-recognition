{
 "cells": [
  {
   "cell_type": "code",
   "execution_count": 13,
   "id": "554d7643",
   "metadata": {},
   "outputs": [],
   "source": [
    "import numpy as np\n",
    "from collections import Counter\n",
    "\n",
    "class Node:\n",
    "\tdef __init__(self, feature = None, threshold = None, left = None, right = None, *, value = None):\n",
    "\t\t''' Constructor '''\n",
    "\n",
    "\t\t# for decision node\n",
    "\t\tself.feature = feature\n",
    "\t\tself.threshold = threshold\n",
    "\t\tself.left = left\n",
    "\t\tself.right = right\n",
    "\n",
    "\t\t# for leaf node\n",
    "\t\tself.value = value\n",
    "\n",
    "\tdef is_leaf_node(self):\n",
    "\t\treturn self.value is not None\n",
    "\t\t\n",
    "class DecisionTree:\n",
    "\tdef __init__(self, min_samples_split = 2, max_depth = 100, n_features = None):\n",
    "\t\t''' Constructor '''\n",
    "\n",
    "\t\t# conditions\n",
    "\t\tself.min_samples_split = min_samples_split\n",
    "\t\tself.max_depth = max_depth\n",
    "\t\tself.n_features = n_features\n",
    "\n",
    "\t\t# initialize the root of tree node\n",
    "\t\tself.root = None\n",
    "\n",
    "\tdef fit(self, X, y):\n",
    "\t\t''' Function to train the tree '''\n",
    "\n",
    "\t\tself.n_features = X.shape[1] if not self.n_features else min(X.shape[1], self.n_features)\n",
    "\t\tself.root = self._grow_tree(X, y)\n",
    "\n",
    "\tdef _grow_tree(self, X, y, depth = 0):\n",
    "\n",
    "\t\tn_samples, n_feats = X.shape\n",
    "\t\tn_labels = len(np.unique(y))\n",
    "\n",
    "\t\t# check the stopping criteria\n",
    "\t\tif (depth >= self.max_depth or n_labels == 1 or n_samples < self.min_samples_split):\n",
    "\t\t\tleaf_value = self._most_common_label(y)\n",
    "\n",
    "\t\t\treturn Node(value = leaf_value)\n",
    "\n",
    "\t\tfeat_idxs = np.random.choice(n_feats, self.n_features, replace = False)\n",
    "\n",
    "\t\t# find the best split\n",
    "\t\tbest_feature, best_thresh = self._best_split(X, y, feat_idxs)\n",
    "\n",
    "\t\t# create child nodes\n",
    "\t\tleft_idxs, right_idxs = self._split(X[:, best_feature] ,best_thresh)\n",
    "\t\tleft = self._grow_tree(X[left_idxs, :], y[left_idxs], depth + 1)\n",
    "\t\tright = self._grow_tree(X[right_idxs, :], y[right_idxs], depth + 1)\n",
    "\t\treturn Node(best_feature, best_thresh, left, right)\n",
    "\n",
    "\n",
    "\tdef _best_split(self, X, y, feat_idxs):\n",
    "\t\tbest_gain = -1\n",
    "\n",
    "\t\tsplit_idx, split_threshold = None, None\n",
    "\n",
    "\t\tfor feat_idx in feat_idxs:\n",
    "\t\t\tX_column = X[:, feat_idx]\n",
    "\t\t\tthresholds = np.unique(X_column)\n",
    "\n",
    "\t\t\tfor threshold in thresholds:\n",
    "\t\t\t\t# calculate the information gain\n",
    "\t\t\t\tgain = self._information_gain(y, X_column, threshold)\n",
    "\n",
    "\t\t\t\tif gain > best_gain:\n",
    "\t\t\t\t\tbest_gain = gain\n",
    "\t\t\t\t\tsplit_idx = feat_idx\n",
    "\t\t\t\t\tsplit_threshold = threshold\n",
    "\n",
    "\t\treturn split_idx, split_threshold\n",
    "\n",
    "\tdef _information_gain(self, y, X_column, threshold):\n",
    "\t\t''' IG = E(parent) - [weighted avg] . E(children) '''\n",
    "\n",
    "\t\t# parent entropy(E)\n",
    "\t\tparent_entropy = self._entropy(y)\n",
    "\n",
    "\t\t# create children\n",
    "\t\tleft_idxs, right_idxs = self._split(X_column, threshold)\n",
    "\n",
    "\t\tif len(left_idxs) == 0 or len(right_idxs) == 0:\n",
    "\t\t\treturn 0\n",
    "\n",
    "\t\t# calculate the weighted entropy of children\n",
    "\t\tn = len(y)\n",
    "\t\tn_l, n_r = len(left_idxs), len(right_idxs)\n",
    "\t\te_l, e_r = self._entropy(y[left_idxs]), self._entropy(y[right_idxs])\n",
    "\t\tchild_entropy = (n_l / n) * e_l + (n_r / n) * e_r\n",
    "\n",
    "\t\t# calculate the IG\n",
    "\t\tinformation_gain = parent_entropy - child_entropy\n",
    "\t\treturn information_gain\n",
    "\n",
    "\tdef _split(self, X_column, split_threshold):\n",
    "\t\tleft_idxs = np.argwhere(X_column <= split_threshold).flatten()\n",
    "\t\tright_idxs = np.argwhere(X_column > split_threshold).flatten()\n",
    "\t\treturn left_idxs, right_idxs\n",
    "\n",
    "\tdef _entropy(self, y):\n",
    "\t\t''' E = - all(p(x) . log2(p(x)))\n",
    "\t\t\tp(x) =  #x/n '''\n",
    "\n",
    "\t\t# histogram\n",
    "\t\t# np.bincount([1, 2, 3, 1, 2, 1]) = [0, 3, 2, 1]\n",
    "\t\t# 0 occured 0 times, 1 occured 3 times, and so on\n",
    "\t\thist = np.bincount(y)\n",
    "\n",
    "\t\tps = hist / len(y)\n",
    "\n",
    "\t\treturn -np.sum([p * np.log(p) for p in ps if p > 0])\n",
    "\n",
    "\tdef _most_common_label(self, y):\n",
    "\t\tcounter = Counter(y)\n",
    "\t\tvalue = counter.most_common(1)[0][0]\n",
    "\t\treturn value\n",
    "\n",
    "\tdef predict(self, X):\n",
    "\t\treturn np.array([self._traverse_tree(x, self.root) for x in X])\n",
    "\n",
    "\tdef _traverse_tree(self, x, node):\n",
    "\t\tif node.is_leaf_node():\n",
    "\t\t\treturn node.value\n",
    "\n",
    "\t\tif x[node.feature] <= node.threshold:\n",
    "\t\t\treturn self._traverse_tree(x, node.left)\n",
    "\n",
    "\t\treturn self._traverse_tree(x, node.right)"
   ]
  },
  {
   "cell_type": "code",
   "execution_count": 14,
   "id": "62eec700",
   "metadata": {},
   "outputs": [],
   "source": [
    "from DecisionTree import DecisionTree\n",
    "import numpy as np\n",
    "from collections import Counter\n",
    "\n",
    "class RandomForest:\n",
    "\tdef __init__(self, n_trees = 10, max_depth = 10, min_samples_split = 2, n_feature = None):\n",
    "\t\tself.n_trees = n_trees\n",
    "\t\tself.max_depth = max_depth\n",
    "\t\tself.min_samples_split = min_samples_split\n",
    "\t\tself.n_features = n_feature\n",
    "\t\tself.trees = []\n",
    "\n",
    "\tdef fit(self, X, y):\n",
    "\t\tself.trees = []\n",
    "\t\tfor _ in range(self.n_trees):\n",
    "\t\t\ttree = DecisionTree(max_depth = self.max_depth, \n",
    "\t\t\t\t\t\t \t\tmin_samples_split = self.min_samples_split,\n",
    "\t\t\t\t\t\t \t\tn_features = self.n_features)\n",
    "\n",
    "\t\t\tX_sample, y_sample = self._bootstrap_samples(X, y)\n",
    "\t\t\ttree.fit(X_sample, y_sample)\n",
    "\t\t\tself.trees.append(tree)\n",
    "\n",
    "\tdef _bootstrap_samples(self, X, y):\n",
    "\t\tn_samples = X.shape[0]\n",
    "\t\tidxs = np.random.choice(n_samples, n_samples, replace = True)\n",
    "\t\treturn X[idxs], y[idxs]\n",
    "\n",
    "\tdef _most_common_label(self, y):\n",
    "\t\tcounter = Counter(y)\n",
    "\t\tmost_common = counter.most_common(1)[0][0]\n",
    "\t\treturn most_common\n",
    "\n",
    "\tdef predict(self, X):\n",
    "\t\tpredictions = np.array([tree.predict(X) for tree in self.trees])\n",
    "\t\t# [[1,0,1,1], [0,0,1,1], []]\n",
    "\n",
    "\t\ttree_preds = np.swapaxes(predictions, 0, 1)\n",
    "\t\tpredictions = np.array([self._most_common_label(pred) for pred in tree_preds])\n",
    "\t\treturn predictions"
   ]
  },
  {
   "cell_type": "code",
   "execution_count": 21,
   "id": "572c3449",
   "metadata": {},
   "outputs": [
    {
     "name": "stdout",
     "output_type": "stream",
     "text": [
      "Decision Tree Accuracy: 0.8916666666666667\n",
      "Random Forest Accuracy: 0.9611111111111111\n"
     ]
    }
   ],
   "source": [
    "from sklearn import datasets\n",
    "from sklearn.model_selection import train_test_split\n",
    "import numpy as np\n",
    "from RandomForest import RandomForest\n",
    "from DecisionTree import DecisionTree\n",
    "\n",
    "data = datasets.load_digits()\n",
    "\n",
    "X, y = data.data, data.target\n",
    "\n",
    "X_train, X_test, y_train, y_test = train_test_split(X, y, test_size = 0.2, random_state = 42)\n",
    "\n",
    "def accuracy(y_test, y_pred):\n",
    "    return np.sum(y_test == y_pred) / len(y_test)\n",
    "\n",
    "# Decision Tree\n",
    "clf1 = DecisionTree(max_depth = 10)\n",
    "clf1.fit(X_train, y_train)\n",
    "predictions1 = clf1.predict(X_test)\n",
    "\n",
    "acc1 = accuracy(y_test, predictions1)\n",
    "print(f'Decision Tree Accuracy: {acc1}')\n",
    "\n",
    "# Random Forest\n",
    "clf2 = RandomForest(n_trees = 10)\n",
    "clf2.fit(X_train, y_train)\n",
    "predictions2 = clf2.predict(X_test)\n",
    "\n",
    "acc2 = accuracy(y_test, predictions2)\n",
    "print(f'Random Forest Accuracy: {acc2}')"
   ]
  },
  {
   "cell_type": "code",
   "execution_count": 15,
   "id": "c1179c3f",
   "metadata": {},
   "outputs": [],
   "source": [
    "X,y = datasets.load_digits(return_X_y=True, as_frame=True)"
   ]
  },
  {
   "cell_type": "code",
   "execution_count": 16,
   "id": "0ff34471",
   "metadata": {},
   "outputs": [
    {
     "name": "stdout",
     "output_type": "stream",
     "text": [
      "Banyak data: 1797 \n",
      "\n",
      "pixel_0_0    float64\n",
      "pixel_0_1    float64\n",
      "pixel_0_2    float64\n",
      "pixel_0_3    float64\n",
      "pixel_0_4    float64\n",
      "              ...   \n",
      "pixel_7_3    float64\n",
      "pixel_7_4    float64\n",
      "pixel_7_5    float64\n",
      "pixel_7_6    float64\n",
      "pixel_7_7    float64\n",
      "Length: 64, dtype: object\n",
      "\n",
      "Data dalam 8x8 matriks: \n",
      " [[ 0.  0.  5. 13.  9.  1.  0.  0.]\n",
      " [ 0.  0. 13. 15. 10. 15.  5.  0.]\n",
      " [ 0.  3. 15.  2.  0. 11.  8.  0.]\n",
      " [ 0.  4. 12.  0.  0.  8.  8.  0.]\n",
      " [ 0.  5.  8.  0.  0.  9.  8.  0.]\n",
      " [ 0.  4. 11.  0.  1. 12.  7.  0.]\n",
      " [ 0.  2. 14.  5. 10. 12.  0.  0.]\n",
      " [ 0.  0.  6. 13. 10.  0.  0.  0.]]\n"
     ]
    }
   ],
   "source": [
    "print(f'Banyak data: {len(X)} \\n')\n",
    "print(X.dtypes)\n",
    "print(f'\\nData dalam 8x8 matriks: \\n {data.images[0]}')"
   ]
  },
  {
   "cell_type": "code",
   "execution_count": 18,
   "id": "95e08a75",
   "metadata": {},
   "outputs": [
    {
     "name": "stdout",
     "output_type": "stream",
     "text": [
      "[0]\n"
     ]
    }
   ],
   "source": [
    "hasil = clf1.predict(np.array(data.images[150]).reshape(1,-1))\n",
    "print(hasil)\n"
   ]
  },
  {
   "cell_type": "code",
   "execution_count": 43,
   "id": "ef38c017",
   "metadata": {
    "scrolled": true
   },
   "outputs": [
    {
     "data": {
      "image/png": "[encoded data removed]",
      "text/plain": [
       "<Figure size 300x300 with 1 Axes>"
      ]
     },
     "metadata": {},
     "output_type": "display_data"
    }
   ],
   "source": [
    "# test = np.array([0,0,5,13,9,1,0,0,0,0,13,15,10,15,5,0,0,3,15,2,0,11,8,0,0,4,12,0,0,8,8,0,0,5,8,0,0,9,8,0,0,4,11,0,1,12,7,0,0,2,14,5,10,12,0,0,0,0,6,13,10,0,0,0,0]).reshape(1,-1)\n",
    "# print(np.array(data.images[150]).reshape(1,-1))\n",
    "hasil = clf2.predict(np.array(data.images[12]).reshape(1,-1))\n",
    "# hasil_test = clf.predict(test)\n",
    "\n",
    "# test_resize = np.resize(test,(8,8))\n",
    "# print(test_resize)\n",
    "plt.figure(1, figsize=(3, 3))\n",
    "plt.imshow(data.images[13], cmap=plt.cm.gray_r, interpolation='nearest')\n",
    "plt.title('Training: x')\n",
    "plt.show()\n"
   ]
  },
  {
   "cell_type": "code",
   "execution_count": 138,
   "id": "006365ba",
   "metadata": {},
   "outputs": [
    {
     "name": "stdout",
     "output_type": "stream",
     "text": [
      "[[ 0  2 15 16  6  0  0  0]\n",
      " [ 0  5 16 15 14  0  0  0]\n",
      " [ 0  5 13 10 14  0  0  0]\n",
      " [ 0  0  0 12 12  0  0  0]\n",
      " [ 0  0  1 16  7  0  0  0]\n",
      " [ 0  0 10 15  2  0  0  0]\n",
      " [ 0  3 16 10  8  6  1  0]\n",
      " [ 0  2 15 16 16 16  7  0]]\n"
     ]
    },
    {
     "data": {
      "image/png": "[encoded data removed]",
      "text/plain": [
       "<Figure size 300x300 with 1 Axes>"
      ]
     },
     "metadata": {},
     "output_type": "display_data"
    },
    {
     "name": "stdout",
     "output_type": "stream",
     "text": [
      "[2]\n"
     ]
    }
   ],
   "source": [
    "test2 = np.array([0,2,15,16,6,0,0,0,0,5,16,15,14,0,0,0,0,5,13,10,14,0,0,0,0,0,0,12,12,0,0,0,0,0,1,16,7,0,0,0,0,0,10,15,2,0,0,0,0,3,16,10,8,6,1,0,0,2,15,16,16,16,7,0,2]).reshape(1, -1)\n",
    "test_resize = np.resize(test2,(8,8))\n",
    "print(test_resize)\n",
    "plt.figure(1, figsize=(3, 3))\n",
    "plt.imshow(test_resize, cmap=plt.cm.gray_r, interpolation='nearest')\n",
    "plt.show()\n",
    "\n",
    "hasil_test2 = clf.predict(test2)\n",
    "\n",
    "print(hasil_test2)"
   ]
  },
  {
   "cell_type": "code",
   "execution_count": 16,
   "id": "7faf1db0",
   "metadata": {},
   "outputs": [
    {
     "name": "stdout",
     "output_type": "stream",
     "text": [
      "int32\n"
     ]
    }
   ],
   "source": [
    "print(y.dtypes)"
   ]
  },
  {
   "cell_type": "code",
   "execution_count": 139,
   "id": "ddcb9de7",
   "metadata": {},
   "outputs": [
    {
     "ename": "TypeError",
     "evalue": "only size-1 arrays can be converted to Python scalars",
     "output_type": "error",
     "traceback": [
      "\u001b[1;31m---------------------------------------------------------------------------\u001b[0m",
      "\u001b[1;31mTypeError\u001b[0m                                 Traceback (most recent call last)",
      "Cell \u001b[1;32mIn[139], line 9\u001b[0m\n\u001b[0;32m      5\u001b[0m img \u001b[38;5;241m=\u001b[39m imageio\u001b[38;5;241m.\u001b[39mimread(pic_path)\n\u001b[0;32m      6\u001b[0m \u001b[38;5;66;03m# dirty hack to tranform into the format, sklearn needs it\u001b[39;00m\n\u001b[0;32m      7\u001b[0m \n\u001b[0;32m      8\u001b[0m \u001b[38;5;66;03m# rounded = [numpy.round(x) for x in predictions]\u001b[39;00m\n\u001b[1;32m----> 9\u001b[0m img \u001b[38;5;241m=\u001b[39m \u001b[43m[\u001b[49m\u001b[38;5;241;43m16\u001b[39;49m\u001b[38;5;241;43m-\u001b[39;49m\u001b[38;5;28;43mint\u001b[39;49m\u001b[43m(\u001b[49m\u001b[43mnp\u001b[49m\u001b[38;5;241;43m.\u001b[39;49m\u001b[43mround\u001b[49m\u001b[43m(\u001b[49m\u001b[43mjj\u001b[49m\u001b[38;5;241;43m/\u001b[39;49m\u001b[38;5;241;43m16\u001b[39;49m\u001b[43m)\u001b[49m\u001b[43m)\u001b[49m\u001b[43m \u001b[49m\u001b[38;5;28;43;01mfor\u001b[39;49;00m\u001b[43m \u001b[49m\u001b[43mj\u001b[49m\u001b[43m \u001b[49m\u001b[38;5;129;43;01min\u001b[39;49;00m\u001b[43m \u001b[49m\u001b[43mimg\u001b[49m\u001b[43m \u001b[49m\u001b[38;5;28;43;01mfor\u001b[39;49;00m\u001b[43m \u001b[49m\u001b[43mjj\u001b[49m\u001b[43m \u001b[49m\u001b[38;5;129;43;01min\u001b[39;49;00m\u001b[43m \u001b[49m\u001b[43mj\u001b[49m\u001b[43m]\u001b[49m\n\u001b[0;32m     11\u001b[0m predicted \u001b[38;5;241m=\u001b[39m classifier\u001b[38;5;241m.\u001b[39mpredict(img)\n\u001b[0;32m     14\u001b[0m image \u001b[38;5;241m=\u001b[39m np\u001b[38;5;241m.\u001b[39mreshape(img, (\u001b[38;5;241m8\u001b[39m,\u001b[38;5;241m8\u001b[39m))\n",
      "Cell \u001b[1;32mIn[139], line 9\u001b[0m, in \u001b[0;36m<listcomp>\u001b[1;34m(.0)\u001b[0m\n\u001b[0;32m      5\u001b[0m img \u001b[38;5;241m=\u001b[39m imageio\u001b[38;5;241m.\u001b[39mimread(pic_path)\n\u001b[0;32m      6\u001b[0m \u001b[38;5;66;03m# dirty hack to tranform into the format, sklearn needs it\u001b[39;00m\n\u001b[0;32m      7\u001b[0m \n\u001b[0;32m      8\u001b[0m \u001b[38;5;66;03m# rounded = [numpy.round(x) for x in predictions]\u001b[39;00m\n\u001b[1;32m----> 9\u001b[0m img \u001b[38;5;241m=\u001b[39m [\u001b[38;5;241m16\u001b[39m\u001b[38;5;241m-\u001b[39m\u001b[38;5;28;43mint\u001b[39;49m\u001b[43m(\u001b[49m\u001b[43mnp\u001b[49m\u001b[38;5;241;43m.\u001b[39;49m\u001b[43mround\u001b[49m\u001b[43m(\u001b[49m\u001b[43mjj\u001b[49m\u001b[38;5;241;43m/\u001b[39;49m\u001b[38;5;241;43m16\u001b[39;49m\u001b[43m)\u001b[49m\u001b[43m)\u001b[49m \u001b[38;5;28;01mfor\u001b[39;00m j \u001b[38;5;129;01min\u001b[39;00m img \u001b[38;5;28;01mfor\u001b[39;00m jj \u001b[38;5;129;01min\u001b[39;00m j]\n\u001b[0;32m     11\u001b[0m predicted \u001b[38;5;241m=\u001b[39m classifier\u001b[38;5;241m.\u001b[39mpredict(img)\n\u001b[0;32m     14\u001b[0m image \u001b[38;5;241m=\u001b[39m np\u001b[38;5;241m.\u001b[39mreshape(img, (\u001b[38;5;241m8\u001b[39m,\u001b[38;5;241m8\u001b[39m))\n",
      "\u001b[1;31mTypeError\u001b[0m: only size-1 arrays can be converted to Python scalars"
     ]
    }
   ],
   "source": [
    "import imageio.v2 as imageio\n",
    "\n",
    "pic_path = 'test1.jpeg'\n",
    "\n",
    "img = imageio.imread(pic_path)\n",
    "# dirty hack to tranform into the format, sklearn needs it\n",
    "\n",
    "# rounded = [numpy.round(x) for x in predictions]\n",
    "img = [16-int(np.round(jj/16)) for j in img for jj in j]\n",
    "\n",
    "predicted = classifier.predict(img)\n",
    "\n",
    "\n",
    "image = np.reshape(img, (8,8))\n",
    "plt.imshow(image, cmap=plt.cm.gray_r, interpolation='nearest')\n",
    "plt.axis('off')\n",
    "plt.show()\n",
    "\n",
    "print('Predicted: {0}'.format(predicted))\n",
    "\n",
    "\n",
    "# img = plt.imread(pic_path)\n",
    "    \n",
    "# gray = rgb2gray(img)\n",
    "# a = (16-gray*16).astype(int)\n",
    "# plt.imshow(a, cmap = plt.get_cmap('gray_r'))\n",
    "# plt.show()\n",
    "# print(\"source data in 8x8:\\n\",a)\n",
    "\n",
    "# predicted = classifier.predict(a.flatten().reshape(1, -1))\n",
    "# print(predicted)"
   ]
  },
  {
   "cell_type": "code",
   "execution_count": 123,
   "id": "fcd4a202",
   "metadata": {},
   "outputs": [
    {
     "data": {
      "image/png": "[encoded data removed]",
      "text/plain": [
       "<Figure size 640x480 with 1 Axes>"
      ]
     },
     "metadata": {},
     "output_type": "display_data"
    },
    {
     "name": "stdout",
     "output_type": "stream",
     "text": [
      "[9]\n"
     ]
    }
   ],
   "source": [
    "import cv2\n",
    "\n",
    "def rgb2gray(rgb):\n",
    "    return np.dot(rgb[...,:3], [0.299, 0.587, 0.114])\n",
    "\n",
    "path = 'resize1.jpeg'\n",
    "grayscale = cv2.imread(path)\n",
    "grayscale = cv2.resize(grayscale, (8,8))\n",
    "# a= np.reshape(gray, (8,8))\n",
    "plt.imshow(grayscale, cmap = plt.get_cmap('gray_r'))\n",
    "plt.show()\n",
    "# print(\"source data in 8x8:\\n\",a)\n",
    "\n",
    "predicted = clf.predict(grayscale.flatten().reshape(1, -1))\n",
    "print(predicted)"
   ]
  },
  {
   "cell_type": "code",
   "execution_count": 40,
   "id": "ba61269f",
   "metadata": {},
   "outputs": [
    {
     "data": {
      "image/png": "[encoded data removed]",
      "text/plain": [
       "<Figure size 640x480 with 1 Axes>"
      ]
     },
     "metadata": {},
     "output_type": "display_data"
    },
    {
     "data": {
      "image/png": "[encoded data removed]",
      "text/plain": [
       "<Figure size 640x480 with 1 Axes>"
      ]
     },
     "metadata": {},
     "output_type": "display_data"
    },
    {
     "name": "stdout",
     "output_type": "stream",
     "text": [
      "source data in 8x8:\n",
      " [[ 4  4  4  7  8  5  4  4]\n",
      " [ 4  4  8  9  9 10  4  4]\n",
      " [ 4  5 10  4  3 10  6  4]\n",
      " [ 5  4  9  8  5  9  5  4]\n",
      " [ 5  4  9 11 11 11  5  4]\n",
      " [ 4  6 10  3  5 11  7  4]\n",
      " [ 4  6 11  8  9  9  5  4]\n",
      " [ 5  5  7  9  7  5  4  5]]\n",
      "\n",
      "Hasil prediksi angka dari gambar adalah angka 8\n"
     ]
    }
   ],
   "source": [
    "import matplotlib.image as mpimg\n",
    "import matplotlib.pyplot as plt\n",
    "import numpy as np\n",
    "import cv2\n",
    "\n",
    "path = '8.png'\n",
    "\n",
    "def rgb2gray(rgb):\n",
    "    return np.dot(rgb[...,:3], [0.299, 0.587, 0.114])\n",
    "\n",
    "img = mpimg.imread(path)\n",
    "\n",
    "plt.imshow(img, cmap=plt.cm.gray_r, interpolation='nearest')\n",
    "plt.title('8.png (in matrix)')\n",
    "plt.show()\n",
    "\n",
    "gray = rgb2gray(img)\n",
    "\n",
    "a=(16-gray*16).astype(int)\n",
    "\n",
    "plt.imshow(a, cmap=plt.cm.gray_r, interpolation='nearest')\n",
    "plt.title('8.png (after processing)')\n",
    "plt.show()\n",
    "\n",
    "predicted = clf2.predict(a.flatten().reshape(1, -1))\n",
    "\n",
    "print(\"source data in 8x8:\\n\",a)\n",
    "print(f'\\nHasil prediksi angka dari gambar adalah angka {predicted[0]}')"
   ]
  },
  {
   "cell_type": "code",
   "execution_count": null,
   "id": "968f5e33",
   "metadata": {},
   "outputs": [],
   "source": []
  },
  {
   "cell_type": "code",
   "execution_count": null,
   "id": "7aced28a",
   "metadata": {},
   "outputs": [],
   "source": []
  }
 ],
 "metadata": {
  "kernelspec": {
   "display_name": "Python 3 (ipykernel)",
   "language": "python",
   "name": "python3"
  },
  "language_info": {
   "codemirror_mode": {
    "name": "ipython",
    "version": 3
   },
   "file_extension": ".py",
   "mimetype": "text/x-python",
   "name": "python",
   "nbconvert_exporter": "python",
   "pygments_lexer": "ipython3",
   "version": "3.11.0"
  }
 },
 "nbformat": 4,
 "nbformat_minor": 5
}
